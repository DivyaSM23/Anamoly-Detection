{
 "cells": [
  {
   "cell_type": "code",
   "execution_count": 10,
   "id": "c5d06b03",
   "metadata": {},
   "outputs": [],
   "source": [
    "# Cell 1: Imports\n",
    "import pandas as pd\n",
    "import numpy as np\n",
    "import matplotlib.pyplot as plt"
   ]
  },
  {
   "cell_type": "code",
   "execution_count": 11,
   "id": "0c4a1082",
   "metadata": {},
   "outputs": [],
   "source": [
    "# Cell 2: Load Parquet Data\n",
    "def load_data(file_path):\n",
    "    df = pd.read_parquet(file_path, engine='fastparquet')\n",
    "    df = df.sort_index()\n",
    "    df = df.ffill().bfill()  # Forward and backward fill missing data\n",
    "    return df"
   ]
  },
  {
   "cell_type": "code",
   "execution_count": 12,
   "id": "8455f056",
   "metadata": {},
   "outputs": [],
   "source": [
    "# Cell 3: Enhanced Preprocess\n",
    "def preprocess(df):\n",
    "    df = df.copy()\n",
    "    df.index = pd.to_datetime(df.index)\n",
    "    start, end = df.index.min(), df.index.max()\n",
    "    master_index = pd.date_range(start=start, end=end, freq='1s')\n",
    "    df = df.reindex(master_index)\n",
    "    df = df.ffill().bfill()\n",
    "    smoothed_df = df.rolling(window=5, min_periods=1).mean()\n",
    "    return smoothed_df"
   ]
  },
  {
   "cell_type": "markdown",
   "id": "7d110607",
   "metadata": {},
   "source": []
  },
  {
   "cell_type": "code",
   "execution_count": 13,
   "id": "1ffcc1d2",
   "metadata": {},
   "outputs": [],
   "source": [
    "# Cell 4: Rolling z-score function\n",
    "def rolling_zscore(series, window=60):\n",
    "    mean = series.rolling(window=window, min_periods=20).mean()\n",
    "    std = series.rolling(window=window, min_periods=20).std()\n",
    "    z = (series - mean) / std\n",
    "    return z"
   ]
  },
  {
   "cell_type": "code",
   "execution_count": 14,
   "id": "06135c85",
   "metadata": {},
   "outputs": [],
   "source": [
    "# Cell 5: Feature Engineering\n",
    "def feature_engineering(df):\n",
    "    features = {}\n",
    "    instruments = df.columns.get_level_values(1).unique()\n",
    "    for instrument in instruments:\n",
    "        try:\n",
    "            ltp = df[('ltp', instrument)]\n",
    "            iv = df[('iv', instrument)]\n",
    "            volume = df[('traded_volume', instrument)]\n",
    "            features[(instrument, 'ltp_ma')] = ltp.rolling(window=60).mean()\n",
    "            features[(instrument, 'iv_zscore')] = rolling_zscore(iv.ffill())\n",
    "            features[(instrument, 'volume_spike')] = volume.pct_change().rolling(60).mean()\n",
    "        except KeyError:\n",
    "            continue\n",
    "    return pd.DataFrame(features, index=df.index)"
   ]
  },
  {
   "cell_type": "code",
   "execution_count": 15,
   "id": "0e75e5d6",
   "metadata": {},
   "outputs": [],
   "source": [
    "# Cell 6: Anomaly Detection\n",
    "def detect_anomalies(df, features):\n",
    "    anomalies = []\n",
    "    min_valid_time = df.index[10]\n",
    "    for instrument in df.columns.get_level_values(1).unique():\n",
    "        try:\n",
    "            ltp = df[('ltp', instrument)]\n",
    "            iv = df[('iv', instrument)]\n",
    "            volume = df[('traded_volume', instrument)]\n",
    "\n",
    "            ltp_diff = ltp.diff()\n",
    "            ltp_std = ltp_diff.std()\n",
    "\n",
    "            iv_z = features.get((instrument, 'iv_zscore'))\n",
    "            vol_spike = features.get((instrument, 'volume_spike'))\n",
    "\n",
    "            if iv_z is not None:\n",
    "                iv_anomaly_idx = iv_z[(iv_z > 3) & (~iv_z.isna())].index\n",
    "                for t in iv_anomaly_idx:\n",
    "                    if t >= min_valid_time:\n",
    "                        anomalies.append((t, instrument, 'IV spike'))\n",
    "\n",
    "            if vol_spike is not None:\n",
    "                vol_anomaly_idx = vol_spike[(vol_spike > 2) & (~vol_spike.isna())].index\n",
    "                for t in vol_anomaly_idx:\n",
    "                    if t >= min_valid_time:\n",
    "                        anomalies.append((t, instrument, 'Volume spike'))\n",
    "\n",
    "            ltp_jump_idx = ltp_diff[(ltp_diff.abs() > 3 * ltp_std) & (~ltp_diff.isna())].index\n",
    "            for t in ltp_jump_idx:\n",
    "                if t >= min_valid_time:\n",
    "                    anomalies.append((t, instrument, 'LTP jump'))\n",
    "\n",
    "        except KeyError:\n",
    "            continue\n",
    "\n",
    "    result_df = pd.DataFrame(anomalies, columns=['timestamp', 'instrument', 'reason'])\n",
    "    result_df = result_df.sort_values(by='timestamp')\n",
    "    return result_df"
   ]
  },
  {
   "cell_type": "code",
   "execution_count": 16,
   "id": "fc26e211",
   "metadata": {},
   "outputs": [],
   "source": [
    "# Cell 7: Main Execution for Two Local Files\n",
    "def main(local_paths):\n",
    "    all_data = []\n",
    "\n",
    "    for path in local_paths:\n",
    "        print(f\"Loading {path}...\")\n",
    "        df = load_data(path)\n",
    "        all_data.append(df)\n",
    "\n",
    "    print(\"Concatenating datasets...\")\n",
    "    combined_df = pd.concat(all_data).sort_index()\n",
    "\n",
    "    print(\"Preprocessing combined data...\")\n",
    "    processed_df = preprocess(combined_df)\n",
    "\n",
    "    print(\"Generating features...\")\n",
    "    features = feature_engineering(processed_df)\n",
    "\n",
    "    print(\"Detecting anomalies...\")\n",
    "    results = detect_anomalies(processed_df, features)\n",
    "\n",
    "    results.to_csv(\"results.csv\", index=False)\n",
    "    print(\"Anomalies saved to results.csv\")\n",
    "\n",
    "    return results"
   ]
  },
  {
   "cell_type": "code",
   "execution_count": 17,
   "id": "7eeafad3",
   "metadata": {},
   "outputs": [
    {
     "name": "stdout",
     "output_type": "stream",
     "text": [
      "Loading ad1.parquet...\n",
      "Loading ad2.parquet...\n",
      "Concatenating datasets...\n",
      "Preprocessing combined data...\n",
      "Generating features...\n",
      "Detecting anomalies...\n",
      "Anomalies saved to results.csv\n"
     ]
    }
   ],
   "source": [
    "# Cell 8: Example Usage with Local Files\n",
    "local_files = [\"ad1.parquet\", \"ad2.parquet\"]  # Replace with your actual filenames\n",
    "results = main(local_files)"
   ]
  }
 ],
 "metadata": {
  "kernelspec": {
   "display_name": "Python 3",
   "language": "python",
   "name": "python3"
  },
  "language": "python",
  "language_info": {
   "codemirror_mode": {
    "name": "ipython",
    "version": 3
   },
   "file_extension": ".py",
   "mimetype": "text/x-python",
   "name": "python",
   "nbconvert_exporter": "python",
   "pygments_lexer": "ipython3",
   "version": "3.12.0"
  }
 },
 "nbformat": 4,
 "nbformat_minor": 5
}
